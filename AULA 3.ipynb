{
 "cells": [
  {
   "cell_type": "markdown",
   "metadata": {},
   "source": [
    "Exercicio 01\n",
    "\n",
    "\n",
    "Crie uma variavel chamada \"idade\" e atribua um valor inteiro a ela. \n",
    "Verifique se a idade é maior ou igual a 18 e imprima \"Maior de idade\" ou \"Menor de idade\" de acordo com a condição."
   ]
  },
  {
   "cell_type": "code",
   "execution_count": 6,
   "metadata": {},
   "outputs": [
    {
     "name": "stdout",
     "output_type": "stream",
     "text": [
      "Menor de idade\n"
     ]
    }
   ],
   "source": [
    "idade = input('Informe sua idade')\n",
    "idade = int(idade)\n",
    "\n",
    "# Verificação da idade\n",
    "\n",
    "if idade >= 18:\n",
    "    print('Maior de idade')\n",
    "else:\n",
    "    print('Menor de idade')"
   ]
  },
  {
   "cell_type": "markdown",
   "metadata": {},
   "source": [
    "Exercício 02\n",
    "\n",
    "\n",
    "Crie uma variável chamada \"número\" e atribua um valor inteiro a ela.\n",
    "Verifique se o número é positivo, negativo."
   ]
  },
  {
   "cell_type": "code",
   "execution_count": 9,
   "metadata": {},
   "outputs": [
    {
     "name": "stdout",
     "output_type": "stream",
     "text": [
      "Positivo\n"
     ]
    }
   ],
   "source": [
    "numero = input('Digite o número inteiro')\n",
    "numero = int(numero)\n",
    "\n",
    "# Verificar se o numero é positivo ou negativo\n",
    "\n",
    "if numero >= 0:\n",
    "    print('Positivo')\n",
    "else:\n",
    "    print('Negativo')"
   ]
  },
  {
   "cell_type": "code",
   "execution_count": 19,
   "metadata": {},
   "outputs": [
    {
     "name": "stdout",
     "output_type": "stream",
     "text": [
      "ZERO!!!\n"
     ]
    }
   ],
   "source": [
    "numero = input('Digite um numero inteiro.')\n",
    "numero = int(numero)\n",
    "\n",
    "#Verificar se o numero é positivo, negativo ou nulo.\n",
    "\n",
    "if numero > 0:    \n",
    "    print('Positivo')\n",
    "elif numero < 0:\n",
    "    print('Negativo')\n",
    "else:\n",
    "    print('ZERO!!!')\n",
    "\n"
   ]
  },
  {
   "cell_type": "markdown",
   "metadata": {},
   "source": [
    "##Exercício 03\n",
    " \n",
    "Crie duas variáveis, \"nota1\" e \"nota2\", e atribua valores numéricos a elas.\n",
    "Verifique se a média das notas é maior ou igual a 7 e imprima \"Aprovado\" ou\n",
    "\"Reprovado\" de acordo com a condição."
   ]
  },
  {
   "cell_type": "code",
   "execution_count": 23,
   "metadata": {},
   "outputs": [
    {
     "name": "stdout",
     "output_type": "stream",
     "text": [
      "REPROVADO\n"
     ]
    }
   ],
   "source": [
    "nota1 = input('Digite sua primeira!')\n",
    "nota2 = input('Digite sua segunda nota!')\n",
    "\n",
    "nota1 = float(nota1)\n",
    "nota2 = float(nota2)\n",
    "\n",
    "#Calcular a media\n",
    "media = (nota1 + nota2) / 2\n",
    "\n",
    "\n",
    "if numero >= 7:\n",
    "    print('APROVADO')\n",
    "else:\n",
    "    print('REPROVADO')\n"
   ]
  },
  {
   "cell_type": "markdown",
   "metadata": {},
   "source": [
    " ##Exercício 04 \n",
    " \n",
    " Crie uma variável chamada \"idade\" e atribua um valor inteiro a ela.\n",
    "Verifique se a idade está dentro do intervalo de 18 a 30 (inclusive) e imprima a\n",
    "mensagem \"Idade válida\" ou \"Idade inválida\" de acordo com a condição."
   ]
  },
  {
   "cell_type": "code",
   "execution_count": 26,
   "metadata": {},
   "outputs": [
    {
     "name": "stdout",
     "output_type": "stream",
     "text": [
      "Idade inválida\n"
     ]
    }
   ],
   "source": [
    "idade = 31\n",
    "\n",
    "if idade >= 18 and idade <= 30:\n",
    "    print('idade válida!')\n",
    "else:\n",
    "    print('Idade inválida')"
   ]
  },
  {
   "cell_type": "markdown",
   "metadata": {},
   "source": []
  }
 ],
 "metadata": {
  "kernelspec": {
   "display_name": "base",
   "language": "python",
   "name": "python3"
  },
  "language_info": {
   "codemirror_mode": {
    "name": "ipython",
    "version": 3
   },
   "file_extension": ".py",
   "mimetype": "text/x-python",
   "name": "python",
   "nbconvert_exporter": "python",
   "pygments_lexer": "ipython3",
   "version": "3.11.3"
  },
  "orig_nbformat": 4
 },
 "nbformat": 4,
 "nbformat_minor": 2
}
