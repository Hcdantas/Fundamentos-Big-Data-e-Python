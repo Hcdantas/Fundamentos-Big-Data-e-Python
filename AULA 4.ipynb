{
 "cells": [
  {
   "cell_type": "markdown",
   "metadata": {},
   "source": [
    "Exercício 05 \n",
    "\n",
    "\n",
    "Crie uma variável chamada \"numero\" e atribua um valor inteiro a ela.\n",
    "Verifique se o número é par ou ímpar e imprima a mensagem correspondente."
   ]
  },
  {
   "cell_type": "code",
   "execution_count": 6,
   "metadata": {},
   "outputs": [
    {
     "name": "stdout",
     "output_type": "stream",
     "text": [
      "Impar\n"
     ]
    }
   ],
   "source": [
    "#Criação da variavel \n",
    "\n",
    "numero = int(input('Digite um valor'))\n",
    "\n",
    "\n",
    "if numero % 2 == 0:\n",
    "    print('Par')\n",
    "else:\n",
    "    print('Impar')"
   ]
  },
  {
   "cell_type": "markdown",
   "metadata": {},
   "source": [
    "Exercício 11 \n",
    "\n",
    "\n",
    "\n",
    " Faça um Programa que peça dois números e imprima o maior deles."
   ]
  },
  {
   "cell_type": "code",
   "execution_count": 8,
   "metadata": {},
   "outputs": [
    {
     "name": "stdout",
     "output_type": "stream",
     "text": [
      "O maior valor é o segundo: 50\n"
     ]
    }
   ],
   "source": [
    "# Inserir os valores\n",
    "num1 = int(input('informe o primeiro número')) \n",
    "num2 = int(input('informe o segundo número')) \n",
    "\n",
    "# Verificar qual é o maior valor\n",
    "if num1 > num2:\n",
    "    print(f'O maior valor é o primeiro: {num1}')\n",
    "else:\n",
    "    print(f'O maior valor é o segundo: {num2}')"
   ]
  },
  {
   "cell_type": "markdown",
   "metadata": {},
   "source": [
    "Exercício 15 \n",
    "\n",
    "Faça um programa para a leitura de duas notas parciais de um aluno. O\n",
    "programa deve calcular a média alcançada por aluno e apresentar:\n",
    "• A mensagem \"Aprovado\", se a média alcançada for maior ou igual a sete;\n",
    "• A mensagem \"Reprovado\", se a média for menor do que sete;\n",
    "• A mensagem \"Aprovado com Distinção\", se a média for igual a dez."
   ]
  },
  {
   "cell_type": "code",
   "execution_count": 24,
   "metadata": {},
   "outputs": [
    {
     "name": "stdout",
     "output_type": "stream",
     "text": [
      "Aprovado com Distinção! A sua média final é 10.0.\n"
     ]
    }
   ],
   "source": [
    "# Inserir as notas\n",
    "nota1 = float(input('informe a sua primeira nota')) \n",
    "nota2 = float(input('informe a sua segunda nota')) \n",
    "\n",
    "# Calcular a média\n",
    "\n",
    "media = (nota1 + nota2) / 2\n",
    " \n",
    "if media == 10:\n",
    "      print(f'Aprovado com Distinção! A sua média final é {media}.')\n",
    "elif media >= 7:\n",
    "      print(f'Aprovado! A sua média final é {media}.')\n",
    "elif media <= 7:\n",
    "      print(f'Reprovado! A sua média final é {media}.')\n",
    "\n",
    "\n",
    "\n"
   ]
  },
  {
   "cell_type": "markdown",
   "metadata": {},
   "source": [
    "Exercício 16 \n",
    "\n",
    "Faça um Programa que leia três números e mostre o maior deles."
   ]
  },
  {
   "cell_type": "code",
   "execution_count": 31,
   "metadata": {},
   "outputs": [
    {
     "name": "stdout",
     "output_type": "stream",
     "text": [
      "2\n"
     ]
    }
   ],
   "source": [
    "# Inserir os números\n",
    "\n",
    "num1 = int(input('Digite o primeiro numero'))\n",
    "num2 = int(input('Digite o segundo numero'))\n",
    "num3 = int(input('Digite o terceiro numero'))\n",
    "\n",
    "\n",
    "# Verificar o maior entre eles :\n",
    "if num1 > num2 and num1 > num3:\n",
    "    print(num1)\n",
    "elif num2 > num2 and num2 > num3:\n",
    "    print(num2)\n",
    "else:\n",
    "    print(num3)\n",
    "\n"
   ]
  },
  {
   "cell_type": "code",
   "execution_count": 32,
   "metadata": {},
   "outputs": [
    {
     "name": "stdout",
     "output_type": "stream",
     "text": [
      "O maior valor é o primeiro: 10\n"
     ]
    }
   ],
   "source": [
    "# Inserir os números\n",
    "num1 = int(input('Digite o primeiro numero'))\n",
    "num2 = int(input('Digite o segundo numero'))\n",
    "num3 = int(input('Digite o terceiro numero'))\n",
    "\n",
    "#Verificar o menor deles\n",
    "if num1 > num2 and num1 > num3:\n",
    "    print(f'O maior valor é o primeiro: {num1}')\n",
    "elif num2 > num1 and num2 > num3:\n",
    "    print(f'O maior deles é o segundo: {num2}')\n",
    "else:\n",
    "    print(f'O maior deles é o terceiro: {num3}')"
   ]
  },
  {
   "cell_type": "markdown",
   "metadata": {},
   "source": [
    "Exercício 17\n",
    "\n",
    "\n",
    "Faça um Programa que leia três números e mostre o maior e o menor\n",
    "deles."
   ]
  },
  {
   "cell_type": "code",
   "execution_count": 39,
   "metadata": {},
   "outputs": [
    {
     "name": "stdout",
     "output_type": "stream",
     "text": [
      "O maior valor é o 3 e o menor é 1\n"
     ]
    }
   ],
   "source": [
    "# Inserir os números\n",
    "num1 = int(input('Digite o primeiro valor'))\n",
    "num2 = int(input('Digite o segundo valor'))\n",
    "num3 = int(input('Digite o terceiro valor'))\n",
    "\n",
    "# Verificar o maior e o menor número\n",
    "if num1 > num2 and num1 > num3:\n",
    "    if num2 < num3:\n",
    "        # O maior valor é o num1 e o menor num2\n",
    "        print(f'O maior valor é {num1} e o menor é {num2}')\n",
    "    else:\n",
    "        # O maior valor é o num1 e o menor num3\n",
    "        print(f'O maior valor é {num1} e o menor é {num3}')\n",
    "elif num2> num1 and num2 > num3:\n",
    "    if num1 < num3:\n",
    "        print(f'O maior valor é o {num2} e o menor é o {num1} ')\n",
    "    else:\n",
    "        print(f'O maior valor é o {num2} e o menor é o {num3} ')\n",
    "elif num3 > num1 and num3 > num2:\n",
    "    if num1 < num2:\n",
    "        print(f'O maior valor é o {num3} e o menor é {num1}')\n",
    "    else:\n",
    "        print(f'O maior valor é o {num3} e o menor é {num3}')\n"
   ]
  },
  {
   "cell_type": "markdown",
   "metadata": {},
   "source": [
    "Exercício 18\n",
    "\n",
    "Faça um programa que pergunte o preço de três produtos e informe qual\n",
    "produto você deve comprar, sabendo que a decisão é sempre pelo mais barato."
   ]
  },
  {
   "cell_type": "code",
   "execution_count": null,
   "metadata": {},
   "outputs": [
    {
     "name": "stdout",
     "output_type": "stream",
     "text": [
      "Comprar o terceiro item 2.0\n"
     ]
    }
   ],
   "source": [
    "# Inserir os números\n",
    "num1 = float(input('Digite o preço do primeiro produto'))\n",
    "num2 = float(input('Digite o preço do segundo produto'))\n",
    "num3 = float(input('Digite o preço do terceiro produto'))\n",
    "\n",
    "#Verificar o mais barato\n",
    "\n",
    "if num1 < num2 and num1 < num3:\n",
    "    print(f'Comprar o primero item {num1}')\n",
    "elif num2 < num1 and num2 < num3:\n",
    "    print(f'Comprar o segundo item {num2} ')\n",
    "else:\n",
    "    print(f'Comprar o terceiro item {num3}')\n",
    "\n",
    "\n"
   ]
  },
  {
   "cell_type": "markdown",
   "metadata": {},
   "source": [
    "Exercício 19 \n",
    "\n",
    " Faça um Programa que leia três números e mostre-os em ordem\n",
    "decrescente."
   ]
  },
  {
   "cell_type": "code",
   "execution_count": null,
   "metadata": {},
   "outputs": [],
   "source": []
  }
 ],
 "metadata": {
  "kernelspec": {
   "display_name": "base",
   "language": "python",
   "name": "python3"
  },
  "language_info": {
   "codemirror_mode": {
    "name": "ipython",
    "version": 3
   },
   "file_extension": ".py",
   "mimetype": "text/x-python",
   "name": "python",
   "nbconvert_exporter": "python",
   "pygments_lexer": "ipython3",
   "version": "3.11.3"
  },
  "orig_nbformat": 4
 },
 "nbformat": 4,
 "nbformat_minor": 2
}
