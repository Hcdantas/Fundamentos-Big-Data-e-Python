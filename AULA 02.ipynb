{
 "cells": [
  {
   "cell_type": "markdown",
   "metadata": {},
   "source": [
    "Exercicio 2\n"
   ]
  },
  {
   "cell_type": "code",
   "execution_count": 3,
   "metadata": {},
   "outputs": [
    {
     "name": "stdout",
     "output_type": "stream",
     "text": [
      "15\n"
     ]
    }
   ],
   "source": [
    "num1 = 40\n",
    "num2 = 25\n",
    "subtracao = num1 - num2\n",
    "\n",
    "print(subtracao)"
   ]
  },
  {
   "cell_type": "markdown",
   "metadata": {},
   "source": [
    "Exercício 11\n",
    "\n",
    "Faça um programa que peça o raio de um circulo, calcule e mostre sua area \n",
    "\n"
   ]
  },
  {
   "cell_type": "code",
   "execution_count": 14,
   "metadata": {},
   "outputs": [
    {
     "data": {
      "text/plain": [
       "314.0"
      ]
     },
     "execution_count": 14,
     "metadata": {},
     "output_type": "execute_result"
    }
   ],
   "source": [
    "# O Comando impute permite inserir informações de forma dinamica no codigo \n",
    "raio = input('Digite o valor do raio')\n",
    "\n",
    "#Coverter o valor contido na variavel raio em INT\n",
    "raio = int(raio)\n",
    "\n",
    "area = 3.14 * raio ** 2\n",
    "area"
   ]
  },
  {
   "cell_type": "markdown",
   "metadata": {},
   "source": [
    "### Exercício 12 - Faça um Programa que calcule a área de um quadrado, em seguida\n",
    "mostre o dobro desta área para o usuário"
   ]
  },
  {
   "cell_type": "code",
   "execution_count": 23,
   "metadata": {},
   "outputs": [
    {
     "name": "stdout",
     "output_type": "stream",
     "text": [
      "A área é de 25.0 e o dobro desta área é 50.0 m²\n"
     ]
    }
   ],
   "source": [
    "lado = input('Digite a medida do quadrado')\n",
    "lado = float(lado)\n",
    "\n",
    "areaQ = lado ** 2\n",
    "dobroL = areaQ * 2\n",
    "print(f'A área é de {areaQ} e o dobro desta área é {dobroL} m²')"
   ]
  },
  {
   "cell_type": "markdown",
   "metadata": {},
   "source": [
    "### Exercicio 13 \n",
    "\n",
    "Faça um Programa que pergunte quanto você ganha por hora e o número\n",
    "de horas trabalhadas no mês. Calcule e mostre o total do seu salário no referido mês."
   ]
  },
  {
   "cell_type": "code",
   "execution_count": 41,
   "metadata": {},
   "outputs": [
    {
     "name": "stdout",
     "output_type": "stream",
     "text": [
      "O seu salário final é de R$ 15200.0\n"
     ]
    }
   ],
   "source": [
    "horasTrabalhadas = input('Quantas horas você trabalhou neste mês?')\n",
    "valorHora = input('Quanto você recebe por hora ?')\n",
    "\n",
    "#Coverter os dados\n",
    "horasTrabalhadas =int(horasTrabalhadas)\n",
    "valorHora = float(valorHora)\n",
    "\n",
    "#Calcular o valor do salário \n",
    "\n",
    "salario = horasTrabalhadas * valorHora\n",
    "\n",
    "print(f'O seu salário final é de R$ {salario}') "
   ]
  },
  {
   "cell_type": "markdown",
   "metadata": {},
   "source": []
  },
  {
   "cell_type": "markdown",
   "metadata": {},
   "source": [
    "#Exercício 15\n",
    " \n",
    "Faça um Programa que peça a temperatura em graus Celsius, transforme\n",
    "e mostre em graus Fahrenheit."
   ]
  },
  {
   "cell_type": "code",
   "execution_count": 35,
   "metadata": {},
   "outputs": [
    {
     "name": "stdout",
     "output_type": "stream",
     "text": [
      "A temperatura de 30.0°C equivale a 86.0°F.\n"
     ]
    }
   ],
   "source": [
    "grausCelsius = input('Digite a temperatura em graus Celsius')\n",
    "grausCelsius = float(grausCelsius)\n",
    "\n",
    "grausFahrenheit = grausCelsius * 1.8 + 32\n",
    "\n",
    "print(f'A temperatura de {grausCelsius}°C equivale a {grausFahrenheit}°F.')"
   ]
  },
  {
   "cell_type": "markdown",
   "metadata": {},
   "source": [
    "Operadores Rcaionais \n",
    "\n"
   ]
  }
 ],
 "metadata": {
  "kernelspec": {
   "display_name": "base",
   "language": "python",
   "name": "python3"
  },
  "language_info": {
   "codemirror_mode": {
    "name": "ipython",
    "version": 3
   },
   "file_extension": ".py",
   "mimetype": "text/x-python",
   "name": "python",
   "nbconvert_exporter": "python",
   "pygments_lexer": "ipython3",
   "version": "3.11.3"
  },
  "orig_nbformat": 4
 },
 "nbformat": 4,
 "nbformat_minor": 2
}
