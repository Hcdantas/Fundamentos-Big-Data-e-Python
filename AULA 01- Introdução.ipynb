{
 "cells": [
  {
   "cell_type": "code",
   "execution_count": null,
   "metadata": {},
   "outputs": [],
   "source": []
  },
  {
   "cell_type": "markdown",
   "metadata": {},
   "source": [
    "Tipos de variaveis \n",
    "String (str) -Texto\n",
    "Interger (int)- Números inteiros\n",
    "Float (float) -Números decimais \n",
    "Boolean (bool) - True or False"
   ]
  },
  {
   "cell_type": "code",
   "execution_count": 15,
   "metadata": {},
   "outputs": [],
   "source": [
    "#Este bloco é destinado a declaração de variaveis\n",
    "\n",
    "a=10\n",
    "b='Banana'\n",
    "c=0.5"
   ]
  },
  {
   "cell_type": "code",
   "execution_count": 16,
   "metadata": {},
   "outputs": [
    {
     "data": {
      "text/plain": [
       "11.0"
      ]
     },
     "execution_count": 16,
     "metadata": {},
     "output_type": "execute_result"
    }
   ],
   "source": [
    "#Calcundo com base nos valores das variaveis\n",
    "c * 2 + a"
   ]
  },
  {
   "cell_type": "code",
   "execution_count": 19,
   "metadata": {},
   "outputs": [
    {
     "data": {
      "text/plain": [
       "int"
      ]
     },
     "execution_count": 19,
     "metadata": {},
     "output_type": "execute_result"
    }
   ],
   "source": [
    "#Identificamos os tipos de dados contidos nas variaveis\n",
    "type(a)"
   ]
  },
  {
   "cell_type": "code",
   "execution_count": 22,
   "metadata": {},
   "outputs": [
    {
     "name": "stdout",
     "output_type": "stream",
     "text": [
      "resultado desta operação é : 50\n"
     ]
    }
   ],
   "source": [
    "#Declarando as variaveis e atribuindo valores\n",
    "num_1= 20\n",
    "num_2= 30\n",
    "\n",
    "#Realizando a soma das variaveis anteriores \n",
    "soma = num_1+ num_2\n",
    "\n",
    "#Exibir o resultado da soma \n",
    "print('resultado desta operação é :',soma)"
   ]
  },
  {
   "cell_type": "markdown",
   "metadata": {},
   "source": [
    "# Exercício 09\n",
    "Atribua os seguintes valores às variáveis, um a um: "
   ]
  },
  {
   "cell_type": "code",
   "execution_count": 4,
   "metadata": {},
   "outputs": [],
   "source": [
    "a = 347\n",
    "b = 2.71\n",
    "c = '347'\n",
    "d = 2 + 3j\n",
    "e = True"
   ]
  },
  {
   "cell_type": "markdown",
   "metadata": {},
   "source": [
    "Quais são os tipos das variaveis acima?\n"
   ]
  },
  {
   "cell_type": "code",
   "execution_count": 7,
   "metadata": {},
   "outputs": [
    {
     "name": "stdout",
     "output_type": "stream",
     "text": [
      "O tipo de dado da váriavel A é: <class 'int'>\n",
      "O tipo de dado da váriavel B é: <class 'float'>\n",
      "O tipo de dado da váriavel C é: <class 'str'>\n",
      "O tipo de dado da váriavel D é: <class 'complex'>\n",
      "O tipo de dado da váriavel E é: <class 'bool'>\n"
     ]
    }
   ],
   "source": [
    "print('O tipo de dado da váriavel A é:', type(a))\n",
    "print('O tipo de dado da váriavel B é:', type(b))\n",
    "print('O tipo de dado da váriavel C é:', type(c))\n",
    "print('O tipo de dado da váriavel D é:', type(d))\n",
    "print('O tipo de dado da váriavel E é:', type(e))"
   ]
  },
  {
   "cell_type": "markdown",
   "metadata": {},
   "source": [
    "# Exercício 10\n",
    "\n",
    "Faça um programa que converta metros para centímetros.\n"
   ]
  },
  {
   "cell_type": "code",
   "execution_count": 10,
   "metadata": {},
   "outputs": [
    {
     "name": "stdout",
     "output_type": "stream",
     "text": [
      "1 metros equivale a 100 centimetros\n"
     ]
    }
   ],
   "source": [
    "metros = 1\n",
    "centimetros = metros * 100\n",
    "print(f'{metros} metros equivale a {centimetros} centimetros')"
   ]
  }
 ],
 "metadata": {
  "kernelspec": {
   "display_name": "base",
   "language": "python",
   "name": "python3"
  },
  "language_info": {
   "codemirror_mode": {
    "name": "ipython",
    "version": 3
   },
   "file_extension": ".py",
   "mimetype": "text/x-python",
   "name": "python",
   "nbconvert_exporter": "python",
   "pygments_lexer": "ipython3",
   "version": "3.11.3"
  },
  "orig_nbformat": 4
 },
 "nbformat": 4,
 "nbformat_minor": 2
}
